{
 "cells": [
  {
   "cell_type": "code",
   "execution_count": 1,
   "metadata": {},
   "outputs": [],
   "source": [
    "from scipy.io import loadmat\n",
    "import numpy as np\n",
    "import pandas as pd\n",
    "from pandas import DataFrame"
   ]
  },
  {
   "cell_type": "code",
   "execution_count": 2,
   "metadata": {},
   "outputs": [],
   "source": [
    "# test data transformation\n",
    "\n",
    "data = loadmat('sat-4-full.mat')\n",
    "testx = data['test_x']\n",
    "testy = data['test_y']"
   ]
  },
  {
   "cell_type": "code",
   "execution_count": 6,
   "metadata": {},
   "outputs": [],
   "source": [
    "# The goal is to build a Data frame, which uses the image as unit. There are 784 pixels to describe each unit and four channels (red, green, blue and NIR components) to describe each pixel.\n",
    "\n",
    "x=np.zeros(((100000,784,4))) \n",
    "w=0;\n",
    "for l in range(0,100000):\n",
    "    for i in range(0,28):\n",
    "        for j in range(0,28):\n",
    "            for k in range(0,4):\n",
    "                x[l][w][k]=testx[i][j][k][l]\n",
    "            w=w+1\n",
    "    w=0"
   ]
  },
  {
   "cell_type": "code",
   "execution_count": 7,
   "metadata": {},
   "outputs": [],
   "source": [
    "# transfer the RGB to HSV\n",
    "\n",
    "import colorsys\n",
    "\n",
    "v=np.zeros(((100000,784,4)))\n",
    "w=0\n",
    "for l in range(0,100000):\n",
    "    for w in range(0,784):\n",
    "        r=x[l][w][0]\n",
    "        g=x[l][w][1]\n",
    "        b=x[l][w][2]\n",
    "        v[l][w][0]=colorsys.rgb_to_hsv(float(r)/float(255), float(g)/float(255), float(b)/float(255))[0]\n",
    "        v[l][w][1]=colorsys.rgb_to_hsv(float(r)/float(255), float(g)/float(255), float(b)/float(255))[1]\n",
    "        v[l][w][2]=colorsys.rgb_to_hsv(float(r)/float(255), float(g)/float(255), float(b)/float(255))[2]\n",
    "        v[l][w][3]=x[l][w][3]"
   ]
  },
  {
   "cell_type": "code",
   "execution_count": 8,
   "metadata": {},
   "outputs": [],
   "source": [
    "# transfer the original data set to a specific result of each image (0-barren land; 1-trees; 2-grassland; 3-none).\n",
    "n=[]\n",
    "for i in range(0,100000):\n",
    "\tfor j in range(0,4):\n",
    "\t\tif testy[j][i] != 0:\n",
    "\t\t\tn.append(j)"
   ]
  },
  {
   "cell_type": "code",
   "execution_count": 9,
   "metadata": {},
   "outputs": [],
   "source": [
    "# calculate the mean value and standard deviation value of H, S and V separately in each image.\n",
    "\n",
    "f=np.zeros((100000,9))\n",
    "h=[]\n",
    "s=[]\n",
    "q=[]\n",
    "m=[]\n",
    "for l in range(0,100000):\n",
    "    for w in range(0,784):\n",
    "        h.append(v[l][w][0])\n",
    "        s.append(v[l][w][1])\n",
    "        q.append(v[l][w][2])\n",
    "        m.append(v[l][w][3])\n",
    "    f[l][0]=np.mean(h)\n",
    "    f[l][1]=np.std(h)\n",
    "    f[l][2]=np.mean(s)\n",
    "    f[l][3]=np.std(s)\n",
    "    f[l][4]=np.mean(q)\n",
    "    f[l][5]=np.std(q)\n",
    "    f[l][6]=np.mean(m)\n",
    "    f[l][7]=np.std(m)\n",
    "    f[l][8]=n[l]\n",
    "    h=[]\n",
    "    s=[]\n",
    "    q=[]\n",
    "    m=[]"
   ]
  },
  {
   "cell_type": "code",
   "execution_count": 10,
   "metadata": {},
   "outputs": [],
   "source": [
    "# create the pandas DataFrame\n",
    "df_test = pd.DataFrame(f, columns = ['hue_mean', 'hue_std', 'saturation_mean', 'saturation_std', 'value_mean', 'value_std', 'NIR_mean', 'NIR_std', 'land_type'])"
   ]
  },
  {
   "cell_type": "code",
   "execution_count": 11,
   "metadata": {},
   "outputs": [],
   "source": [
    "import pandas as pd\n",
    "from sklearn import preprocessing\n",
    "\n",
    "x = df_test.iloc[:,6:8].values #returns a numpy array\n",
    "min_max_scaler = preprocessing.MinMaxScaler()\n",
    "x_scaled = min_max_scaler.fit_transform(x)\n",
    "\n",
    "df_test.iloc[:,6:8] = x_scaled"
   ]
  },
  {
   "cell_type": "code",
   "execution_count": 12,
   "metadata": {},
   "outputs": [],
   "source": [
    "test_x=df_test.iloc[:,:8]\n",
    "test_y=df_test.iloc[:,8]"
   ]
  },
  {
   "cell_type": "code",
   "execution_count": 13,
   "metadata": {},
   "outputs": [],
   "source": [
    "import pickle\n",
    "\n",
    "# load model from file\n",
    "loaded_model = pickle.load(open(\"model_rfc_40000.dat\", \"rb\"))"
   ]
  },
  {
   "cell_type": "code",
   "execution_count": 14,
   "metadata": {},
   "outputs": [],
   "source": [
    "# y_predict\n",
    "y_pred = loaded_model.predict(test_x)\n",
    "y_true = test_y"
   ]
  },
  {
   "cell_type": "code",
   "execution_count": 15,
   "metadata": {},
   "outputs": [
    {
     "data": {
      "text/plain": [
       "0.98372"
      ]
     },
     "execution_count": 15,
     "metadata": {},
     "output_type": "execute_result"
    }
   ],
   "source": [
    "# prediction accuracy\n",
    "from sklearn.metrics import accuracy_score\n",
    "accuracy_score(y_true, y_pred)"
   ]
  },
  {
   "cell_type": "code",
   "execution_count": 16,
   "metadata": {},
   "outputs": [
    {
     "data": {
      "text/plain": [
       "array([[25734,     2,   351,   102],\n",
       "       [    5, 19731,   105,   390],\n",
       "       [  165,    78, 17552,   151],\n",
       "       [  145,    23,   111, 35355]])"
      ]
     },
     "execution_count": 16,
     "metadata": {},
     "output_type": "execute_result"
    }
   ],
   "source": [
    "from sklearn.metrics import confusion_matrix\n",
    "matrix = confusion_matrix(y_true, y_pred)\n",
    "matrix"
   ]
  },
  {
   "cell_type": "code",
   "execution_count": 17,
   "metadata": {},
   "outputs": [
    {
     "data": {
      "text/plain": [
       "Text(0.5,1,'Confusion Matrix')"
      ]
     },
     "execution_count": 17,
     "metadata": {},
     "output_type": "execute_result"
    },
    {
     "data": {
      "image/png": "[encoded data removed]",
      "text/plain": [
       "<Figure size 432x288 with 1 Axes>"
      ]
     },
     "metadata": {
      "needs_background": "light"
     },
     "output_type": "display_data"
    }
   ],
   "source": [
    "# confusion matrix with heat map\n",
    "\n",
    "import matplotlib.pyplot as plt\n",
    "import seaborn as sns\n",
    "%matplotlib inline\n",
    "\n",
    "# Creating Heatmap\n",
    "sns.heatmap(matrix,annot=True,cbar=False)\n",
    "# Adding axis labels and title\n",
    "plt.ylabel('True Label')\n",
    "plt.xlabel('Predicted Label')\n",
    "plt.title('Confusion Matrix')\n",
    "\n",
    "# 参考 https://getaravind.com/blog/confusion-matrix-seaborn-heatmap/\n",
    "# 颜色参考 https://towardsdatascience.com/cross-validation-a-beginners-guide-5b8ca04962cd\n"
   ]
  }
 ],
 "metadata": {
  "kernelspec": {
   "display_name": "Python 3",
   "language": "python",
   "name": "python3"
  },
  "language_info": {
   "codemirror_mode": {
    "name": "ipython",
    "version": 3
   },
   "file_extension": ".py",
   "mimetype": "text/x-python",
   "name": "python",
   "nbconvert_exporter": "python",
   "pygments_lexer": "ipython3",
   "version": "3.7.6"
  }
 },
 "nbformat": 4,
 "nbformat_minor": 2
}
